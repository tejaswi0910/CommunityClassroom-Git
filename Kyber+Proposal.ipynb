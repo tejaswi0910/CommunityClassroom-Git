{
  "nbformat": 4,
  "nbformat_minor": 0,
  "metadata": {
    "colab": {
      "provenance": [],
      "include_colab_link": true
    },
    "kernelspec": {
      "name": "python3",
      "display_name": "Python 3"
    },
    "language_info": {
      "name": "python"
    }
  },
  "cells": [
    {
      "cell_type": "markdown",
      "metadata": {
        "id": "view-in-github",
        "colab_type": "text"
      },
      "source": [
        "<a href=\"https://colab.research.google.com/github/tejaswi0910/CommunityClassroom-Git/blob/master/Kyber%2BProposal.ipynb\" target=\"_parent\"><img src=\"https://colab.research.google.com/assets/colab-badge.svg\" alt=\"Open In Colab\"/></a>"
      ]
    },
    {
      "cell_type": "code",
      "execution_count": null,
      "metadata": {
        "colab": {
          "base_uri": "https://localhost:8080/"
        },
        "id": "c1-KjOpAdDUi",
        "outputId": "38e58293-639d-417d-9231-cf7203cecbff"
      },
      "outputs": [
        {
          "output_type": "stream",
          "name": "stdout",
          "text": [
            "Cloning into 'liboqs-python'...\n",
            "remote: Enumerating objects: 33, done.\u001b[K\n",
            "remote: Counting objects: 100% (33/33), done.\u001b[K\n",
            "remote: Compressing objects: 100% (29/29), done.\u001b[K\n",
            "remote: Total 33 (delta 3), reused 17 (delta 2), pack-reused 0 (from 0)\u001b[K\n",
            "Receiving objects: 100% (33/33), 25.64 KiB | 1.35 MiB/s, done.\n",
            "Resolving deltas: 100% (3/3), done.\n"
          ]
        }
      ],
      "source": [
        "!git clone --depth=1 https://github.com/open-quantum-safe/liboqs-python"
      ]
    },
    {
      "cell_type": "code",
      "source": [
        "!apt-get update\n",
        "!apt-get install -y cmake ninja-build gcc make python3-dev"
      ],
      "metadata": {
        "colab": {
          "base_uri": "https://localhost:8080/"
        },
        "id": "duNDAaLVdK-_",
        "outputId": "130d2cd9-732b-447a-a5ba-da2e97326aa7"
      },
      "execution_count": null,
      "outputs": [
        {
          "output_type": "stream",
          "name": "stdout",
          "text": [
            "Get:1 http://security.ubuntu.com/ubuntu jammy-security InRelease [129 kB]\n",
            "Get:2 https://developer.download.nvidia.com/compute/cuda/repos/ubuntu2204/x86_64  InRelease [1,581 B]\n",
            "Get:3 https://cloud.r-project.org/bin/linux/ubuntu jammy-cran40/ InRelease [3,632 B]\n",
            "Get:4 https://r2u.stat.illinois.edu/ubuntu jammy InRelease [6,555 B]\n",
            "Hit:5 http://archive.ubuntu.com/ubuntu jammy InRelease\n",
            "Get:6 http://archive.ubuntu.com/ubuntu jammy-updates InRelease [128 kB]\n",
            "Get:7 https://developer.download.nvidia.com/compute/cuda/repos/ubuntu2204/x86_64  Packages [1,309 kB]\n",
            "Hit:8 https://ppa.launchpadcontent.net/deadsnakes/ppa/ubuntu jammy InRelease\n",
            "Get:9 https://ppa.launchpadcontent.net/graphics-drivers/ppa/ubuntu jammy InRelease [24.3 kB]\n",
            "Get:10 http://archive.ubuntu.com/ubuntu jammy-backports InRelease [127 kB]\n",
            "Get:11 https://cloud.r-project.org/bin/linux/ubuntu jammy-cran40/ Packages [66.7 kB]\n",
            "Hit:12 https://ppa.launchpadcontent.net/ubuntugis/ppa/ubuntu jammy InRelease\n",
            "Get:13 http://security.ubuntu.com/ubuntu jammy-security/universe amd64 Packages [1,230 kB]\n",
            "Get:14 http://security.ubuntu.com/ubuntu jammy-security/main amd64 Packages [2,606 kB]\n",
            "Get:15 https://r2u.stat.illinois.edu/ubuntu jammy/main all Packages [8,669 kB]\n",
            "Get:16 https://r2u.stat.illinois.edu/ubuntu jammy/main amd64 Packages [2,653 kB]\n",
            "Get:17 http://archive.ubuntu.com/ubuntu jammy-updates/universe amd64 Packages [1,523 kB]\n",
            "Get:18 http://archive.ubuntu.com/ubuntu jammy-updates/main amd64 Packages [2,907 kB]\n",
            "Get:19 https://ppa.launchpadcontent.net/graphics-drivers/ppa/ubuntu jammy/main amd64 Packages [57.8 kB]\n",
            "Fetched 21.4 MB in 9s (2,447 kB/s)\n",
            "Reading package lists... Done\n",
            "W: Skipping acquire of configured file 'main/source/Sources' as repository 'https://r2u.stat.illinois.edu/ubuntu jammy InRelease' does not seem to provide it (sources.list entry misspelt?)\n",
            "Reading package lists... Done\n",
            "Building dependency tree... Done\n",
            "Reading state information... Done\n",
            "gcc is already the newest version (4:11.2.0-1ubuntu1).\n",
            "gcc set to manually installed.\n",
            "make is already the newest version (4.3-4.1build1).\n",
            "make set to manually installed.\n",
            "cmake is already the newest version (3.22.1-1ubuntu1.22.04.2).\n",
            "python3-dev is already the newest version (3.10.6-1~22.04.1).\n",
            "python3-dev set to manually installed.\n",
            "The following NEW packages will be installed:\n",
            "  ninja-build\n",
            "0 upgraded, 1 newly installed, 0 to remove and 25 not upgraded.\n",
            "Need to get 111 kB of archives.\n",
            "After this operation, 358 kB of additional disk space will be used.\n",
            "Get:1 http://archive.ubuntu.com/ubuntu jammy/universe amd64 ninja-build amd64 1.10.1-1 [111 kB]\n",
            "Fetched 111 kB in 1s (187 kB/s)\n",
            "Selecting previously unselected package ninja-build.\n",
            "(Reading database ... 124926 files and directories currently installed.)\n",
            "Preparing to unpack .../ninja-build_1.10.1-1_amd64.deb ...\n",
            "Unpacking ninja-build (1.10.1-1) ...\n",
            "Setting up ninja-build (1.10.1-1) ...\n",
            "Processing triggers for man-db (2.10.2-1) ...\n"
          ]
        }
      ]
    },
    {
      "cell_type": "code",
      "source": [
        "%cd liboqs-python\n",
        "!pip install ."
      ],
      "metadata": {
        "colab": {
          "base_uri": "https://localhost:8080/"
        },
        "id": "rV2b8wVDdNQT",
        "outputId": "9b7675b6-5de2-46bf-9dfc-04e7de779fc0"
      },
      "execution_count": null,
      "outputs": [
        {
          "output_type": "stream",
          "name": "stdout",
          "text": [
            "/content/liboqs-python\n",
            "Processing /content/liboqs-python\n",
            "  Installing build dependencies ... \u001b[?25l\u001b[?25hdone\n",
            "  Getting requirements to build wheel ... \u001b[?25l\u001b[?25hdone\n",
            "  Preparing metadata (pyproject.toml) ... \u001b[?25l\u001b[?25hdone\n",
            "Building wheels for collected packages: liboqs-python\n",
            "  Building wheel for liboqs-python (pyproject.toml) ... \u001b[?25l\u001b[?25hdone\n",
            "  Created wheel for liboqs-python: filename=liboqs_python-0.12.0-py3-none-any.whl size=12437 sha256=2417e7d315c2b05e79d367af0717f97ea0b3aeb82f16df9837a0bb427a6e3092\n",
            "  Stored in directory: /root/.cache/pip/wheels/88/6a/34/7b907e7c67601095491eb47ea991c49facb1ce071d5b40d09c\n",
            "Successfully built liboqs-python\n",
            "Installing collected packages: liboqs-python\n",
            "Successfully installed liboqs-python-0.12.0\n"
          ]
        }
      ]
    },
    {
      "cell_type": "code",
      "source": [
        "import oqs"
      ],
      "metadata": {
        "colab": {
          "base_uri": "https://localhost:8080/"
        },
        "id": "L_vdI-TMdPNS",
        "outputId": "c23975ed-d59e-4367-bd98-f0085877a0e1"
      },
      "execution_count": null,
      "outputs": [
        {
          "output_type": "stream",
          "name": "stdout",
          "text": [
            "liboqs not found, installing it in /root/_oqs\n"
          ]
        },
        {
          "output_type": "stream",
          "name": "stderr",
          "text": [
            "INFO:oqs.oqs:liboqs not found, installing it in /root/_oqs\n"
          ]
        },
        {
          "output_type": "stream",
          "name": "stdout",
          "text": [
            "Installing in 5 seconds...\n"
          ]
        },
        {
          "output_type": "stream",
          "name": "stderr",
          "text": [
            "INFO:oqs.oqs:Installing in 5 seconds...\n"
          ]
        },
        {
          "output_type": "stream",
          "name": "stdout",
          "text": [
            "Installing in 4 seconds...\n"
          ]
        },
        {
          "output_type": "stream",
          "name": "stderr",
          "text": [
            "INFO:oqs.oqs:Installing in 4 seconds...\n"
          ]
        },
        {
          "output_type": "stream",
          "name": "stdout",
          "text": [
            "Installing in 3 seconds...\n"
          ]
        },
        {
          "output_type": "stream",
          "name": "stderr",
          "text": [
            "INFO:oqs.oqs:Installing in 3 seconds...\n"
          ]
        },
        {
          "output_type": "stream",
          "name": "stdout",
          "text": [
            "Installing in 2 seconds...\n"
          ]
        },
        {
          "output_type": "stream",
          "name": "stderr",
          "text": [
            "INFO:oqs.oqs:Installing in 2 seconds...\n"
          ]
        },
        {
          "output_type": "stream",
          "name": "stdout",
          "text": [
            "Installing in 1 seconds...\n"
          ]
        },
        {
          "output_type": "stream",
          "name": "stderr",
          "text": [
            "INFO:oqs.oqs:Installing in 1 seconds...\n"
          ]
        }
      ]
    },
    {
      "cell_type": "code",
      "source": [
        "!pip install pycryptodome"
      ],
      "metadata": {
        "id": "SHC3ZrMsdQGE"
      },
      "execution_count": null,
      "outputs": []
    },
    {
      "cell_type": "markdown",
      "source": [
        "## Kyber+\n",
        "\n",
        "Key Enhancements:\n",
        "- Multithreading: Threads are used to parallelize the key generation, encryption, and decryption processes for different algorithms, improving performance.\n",
        "- Hybrid Encryption: Combines Kyber for key exchange with AES for encrypting the plaintext message.\n",
        "- Batch Processing: Although this example processes algorithms sequentially within threads, you could extend it to handle multiple messages in batches.\n",
        "- Input/Output text\n",
        "\n",
        "\n",
        "ToDo:\n",
        "- graphs - Done\n",
        "- figure out a metric for loss - Shanon Entropy, Chi Square, Hamming\n",
        "- figure why relation isn't consistent"
      ],
      "metadata": {
        "id": "eCgarkgfdaLZ"
      }
    },
    {
      "cell_type": "markdown",
      "source": [
        "## Kyber’s Role (Key Encapsulation Mechanism - KEM)\n",
        "Kyber is a post-quantum key encapsulation mechanism (KEM), which means it does not encrypt the plaintext directly.\n",
        "\n",
        "Instead, it is used for secure key exchange, meaning:\n",
        "- A public and private key pair is generated using kem.generate_keypair(). The shared secret is encapsulated using kem.encap_secret(public_key), producing:\n",
        "  - A ciphertext (used for key exchange)\n",
        "  - A shared secret (used as an encryption key)\n",
        "  - The receiver decapsulates the shared secret using kem.decap_secret(ciphertext), retrieving the same shared secret.\n",
        "- This ensures quantum-safe key exchange between two parties.\n",
        "\n",
        "---\n",
        "\n",
        "## AES’s Role (Hybrid Encryption of the Actual Message)\n",
        "After obtaining the shared secret from Kyber, it is used as the encryption key for AES. AES is a symmetric encryption algorithm, meaning the same key is used for both encryption and decryption.\n",
        "\n",
        "The steps for AES encryption:\n",
        " - Take the first 16 bytes of Kyber’s shared secret as the AES key.\n",
        " - Generate a random initialization vector (IV).\n",
        " - Use AES in CBC mode to encrypt the actual plaintext message.\n",
        " - The IV is prepended to the ciphertext, so it can be used for decryption.\n",
        "\n",
        "The steps for AES decryption:\n",
        "- Extract the first 16 bytes of the ciphertext as the IV.\n",
        "- Decrypt the message using the same shared secret as the AES key."
      ],
      "metadata": {
        "id": "4tN-qQVko2S0"
      }
    },
    {
      "cell_type": "code",
      "source": [
        "# Function to read a text file and extract sentences\n",
        "def read_text_file(file_path):\n",
        "    with open(file_path, \"r\", encoding=\"utf-8\") as file:\n",
        "        text = file.read()  # Read the entire content\n",
        "\n",
        "    # Split text into sentences using a full stop (.)\n",
        "    sentences = text.split(\".\")\n",
        "\n",
        "    # Remove empty lines, extra spaces, and line breaks\n",
        "    sentences = [sentence.strip().replace(\"\\n\", \" \") for sentence in sentences if sentence.strip()]\n",
        "\n",
        "    return sentences\n",
        "\n",
        "# Path to your text file\n",
        "file_path1 = \"/content/plaintext-small.txt\"\n",
        "file_path2 = \"/content/plaintext-large.txt\"\n",
        "\n",
        "# Read and process the file\n",
        "sentence_list_small = read_text_file(file_path1)[:120]\n",
        "sentence_list_large = read_text_file(file_path2)[:600]\n",
        "\n",
        "# Print the cleaned list of sentences\n",
        "# print(sentence_list)\n",
        "print(len(sentence_list_small))\n",
        "print(len(sentence_list_large))"
      ],
      "metadata": {
        "id": "hmvzVz-6smt2"
      },
      "execution_count": null,
      "outputs": []
    },
    {
      "cell_type": "code",
      "source": [
        "import time\n",
        "import oqs\n",
        "import threading\n",
        "from Crypto.Cipher import AES\n",
        "from Crypto.Util.Padding import pad, unpad\n",
        "import os\n",
        "from collections import Counter\n",
        "import math\n",
        "\n",
        "def shannon_entropy(data):\n",
        "    if not data:\n",
        "        return 0\n",
        "    frequency = Counter(data)  # Count occurrences of each byte\n",
        "    total_length = len(data)\n",
        "    entropy = -sum((count / total_length) * math.log2(count / total_length) for count in frequency.values())\n",
        "    return entropy\n",
        "\n",
        "# Hybrid encryption: AES with Kyber for key exchange\n",
        "def hybrid_encrypt(shared_secret, plaintext):\n",
        "    aes_key = shared_secret[:16]  # Use the first 16 bytes for AES key\n",
        "    iv = os.urandom(16)  # Random initialization vector\n",
        "    cipher = AES.new(aes_key, AES.MODE_CBC, iv)\n",
        "    ciphertext = cipher.encrypt(pad(plaintext, AES.block_size))\n",
        "    return iv + ciphertext\n",
        "\n",
        "def hybrid_decrypt(shared_secret, ciphertext):\n",
        "    aes_key = shared_secret[:16]\n",
        "    iv = ciphertext[:16]\n",
        "    cipher = AES.new(aes_key, AES.MODE_CBC, iv)\n",
        "    plaintext = unpad(cipher.decrypt(ciphertext[16:]), AES.block_size)\n",
        "    return plaintext\n",
        "\n",
        "# Multithreaded key generation, encryption, and decryption\n",
        "def process_kyber(algo, plaintext):\n",
        "    results = {}\n",
        "    keygen_time = 0\n",
        "    enc_time = 0\n",
        "    dec_time = 0\n",
        "    ciphertext_entropy = 0\n",
        "    encrypted_entropy = 0\n",
        "\n",
        "    with oqs.KeyEncapsulation(algo) as kem:\n",
        "        for sentence in plaintext:\n",
        "            pt = sentence.encode('utf-8')\n",
        "            # Key generation\n",
        "            start_time = time.time()\n",
        "            public_key = kem.generate_keypair()\n",
        "            # private_key = kem.export_secret_key()\n",
        "            keygen_time += time.time() - start_time\n",
        "\n",
        "            # Encryption\n",
        "            start_time = time.time()\n",
        "            ciphertext, shared_secret = kem.encap_secret(public_key)\n",
        "            enc_time += time.time() - start_time\n",
        "            ciphertext_entropy += shannon_entropy(ciphertext)\n",
        "\n",
        "            # Decryption\n",
        "            start_time = time.time()\n",
        "            shared_secret_dec = kem.decap_secret(ciphertext)\n",
        "            dec_time += time.time() - start_time\n",
        "\n",
        "            # Hybrid encryption and decryption\n",
        "            encrypted_message = hybrid_encrypt(shared_secret, pt)\n",
        "            decrypted_message = hybrid_decrypt(shared_secret_dec, encrypted_message)\n",
        "            encrypted_entropy += shannon_entropy(encrypted_message)\n",
        "\n",
        "        n = len(plaintext)\n",
        "        results = {\n",
        "            \"keygen_time\": keygen_time / n,\n",
        "            \"enc_time\": enc_time / n,\n",
        "            \"dec_time\": dec_time / n,\n",
        "            \"encrypted_message\": encrypted_message,\n",
        "            \"decrypted_message\": decrypted_message,\n",
        "            \"ciphertext_entropy\": ciphertext_entropy / n,\n",
        "            \"entropy\": encrypted_entropy / n\n",
        "        }\n",
        "\n",
        "    return results\n",
        "\n",
        "# Example plaintext to encrypt\n",
        "plaintext = sentence_list_small\n",
        "\n",
        "# Define the algorithms\n",
        "algorithms = [\"Kyber512\", \"Kyber768\", \"Kyber1024\"]\n",
        "\n",
        "# Multithreaded execution\n",
        "threads = []\n",
        "results = []\n",
        "\n",
        "def thread_function(algo, plaintext):\n",
        "    result = process_kyber(algo, plaintext)\n",
        "    result[\"algorithm\"] = algo\n",
        "    results.append(result)\n",
        "\n",
        "for algo in algorithms:\n",
        "    thread = threading.Thread(target=thread_function, args=(algo, plaintext))\n",
        "    threads.append(thread)\n",
        "    thread.start()\n",
        "\n",
        "for thread in threads:\n",
        "    thread.join()\n",
        "\n",
        "# Display the results\n",
        "for result in results:\n",
        "    print(f\"Algorithm: {result['algorithm']}\")\n",
        "    print(f\"Key Generation Time: {result['keygen_time']:.6f} seconds\")\n",
        "    print(f\"Encryption Time: {result['enc_time']:.6f} seconds\")\n",
        "    print(f\"Decryption Time: {result['dec_time']:.6f} seconds\")\n",
        "    print(f\"Encrypted Message: {result['encrypted_message']}\")\n",
        "    print(f\"Decrypted Message: {result['decrypted_message']}\")\n",
        "    print(f\"Shanon Entropy on CipherText: {result['ciphertext_entropy']}\")\n",
        "    print(f\"Shanon Entropy on Encrypted Message: {result['entropy']}\")\n",
        "    print(\"-\" * 30)"
      ],
      "metadata": {
        "id": "Gn3IVoejdZJx"
      },
      "execution_count": null,
      "outputs": []
    },
    {
      "cell_type": "code",
      "source": [
        "import matplotlib.pyplot as plt\n",
        "import numpy as np\n",
        "\n",
        "# Assuming 'results' is already populated after running the algorithms\n",
        "# Prepare data for plotting\n",
        "metrics = [\"keygen_time\", \"enc_time\", \"dec_time\", \"ciphertext_entropy\", \"entropy\"]\n",
        "algorithms = [\"Kyber512\", \"Kyber768\", \"Kyber1024\"]\n",
        "\n",
        "# Extract the relevant results for each algorithm\n",
        "keygen_times = [result[\"keygen_time\"] for result in results]\n",
        "enc_times = [result[\"enc_time\"] for result in results]\n",
        "dec_times = [result[\"dec_time\"] for result in results]\n",
        "ciphertext_entropies = [result[\"ciphertext_entropy\"] for result in results]\n",
        "encrypted_entropies = [result[\"entropy\"] for result in results]\n",
        "\n",
        "# Create a 3x2 grid of subplots\n",
        "fig, axes = plt.subplots(3, 2, figsize=(15, 10))\n",
        "\n",
        "# Plot each metric\n",
        "axes[0, 0].bar(algorithms, keygen_times, color=['#6C5B7B', '#F1A7B9', '#F6D02F'])\n",
        "axes[0, 0].set_title('Key Generation Time')\n",
        "axes[0, 0].set_ylabel('Time (seconds)')\n",
        "\n",
        "axes[0, 1].bar(algorithms, enc_times, color=['#6C5B7B', '#F1A7B9', '#F6D02F'])\n",
        "axes[0, 1].set_title('Encryption Time')\n",
        "axes[0, 1].set_ylabel('Time (seconds)')\n",
        "\n",
        "axes[1, 0].bar(algorithms, dec_times, color=['#6C5B7B', '#F1A7B9', '#F6D02F'])\n",
        "axes[1, 0].set_title('Decryption Time')\n",
        "axes[1, 0].set_ylabel('Time (seconds)')\n",
        "\n",
        "axes[1, 1].bar(algorithms, ciphertext_entropies, color=['#6C5B7B', '#F1A7B9', '#F6D02F'])\n",
        "axes[1, 1].set_title('Ciphertext Entropy')\n",
        "axes[1, 1].set_ylabel('Entropy')\n",
        "\n",
        "axes[2, 0].bar(algorithms, encrypted_entropies, color=['#6C5B7B', '#F1A7B9', '#F6D02F'])\n",
        "axes[2, 0].set_title('Encrypted Message Entropy')\n",
        "axes[2, 0].set_ylabel('Entropy')\n",
        "\n",
        "# Hide the empty subplot\n",
        "axes[2, 1].axis('off')\n",
        "\n",
        "# Adjust layout to prevent overlap\n",
        "plt.tight_layout()\n",
        "\n",
        "# Display the plot\n",
        "plt.show()"
      ],
      "metadata": {
        "id": "kv1n4Kbqghy0"
      },
      "execution_count": null,
      "outputs": []
    },
    {
      "cell_type": "markdown",
      "source": [
        "600 sentences + chi quare +"
      ],
      "metadata": {
        "id": "npPrrImayIbO"
      }
    },
    {
      "cell_type": "code",
      "source": [
        "import time\n",
        "import oqs\n",
        "import threading\n",
        "from Crypto.Cipher import AES\n",
        "from Crypto.Util.Padding import pad, unpad\n",
        "import os\n",
        "from collections import Counter\n",
        "import math\n",
        "\n",
        "def shannon_entropy(data):\n",
        "    if not data:\n",
        "        return 0\n",
        "    frequency = Counter(data)  # Count occurrences of each byte\n",
        "    total_length = len(data)\n",
        "    entropy = -sum((count / total_length) * math.log2(count / total_length) for count in frequency.values())\n",
        "    return entropy\n",
        "\n",
        "# Chi-Square Test Calculation\n",
        "def chi_square_test(data):\n",
        "    expected_freq = len(data) / 256  # Expected uniform distribution\n",
        "    observed_freq = Counter(data)  # Count occurrences of each byte\n",
        "\n",
        "    chi_square_stat = sum(((observed_freq.get(byte, 0) - expected_freq) ** 2) / expected_freq for byte in range(256))\n",
        "    return chi_square_stat\n",
        "\n",
        "# Hamming Distance Calculation\n",
        "def hamming_distance(data1, data2):\n",
        "    \"\"\"Compute Hamming Distance between two byte sequences.\"\"\"\n",
        "    return sum(bin(b1 ^ b2).count('1') for b1, b2 in zip(data1, data2))\n",
        "\n",
        "\n",
        "# Hybrid encryption: AES with Kyber for key exchange\n",
        "def hybrid_encrypt(shared_secret, plaintext):\n",
        "    aes_key = shared_secret[:16]  # Use the first 16 bytes for AES key\n",
        "    iv = os.urandom(16)  # Random initialization vector\n",
        "    cipher = AES.new(aes_key, AES.MODE_CBC, iv)\n",
        "    ciphertext = cipher.encrypt(pad(plaintext, AES.block_size))\n",
        "    return iv + ciphertext\n",
        "\n",
        "def hybrid_decrypt(shared_secret, ciphertext):\n",
        "    aes_key = shared_secret[:16]\n",
        "    iv = ciphertext[:16]\n",
        "    cipher = AES.new(aes_key, AES.MODE_CBC, iv)\n",
        "    plaintext = unpad(cipher.decrypt(ciphertext[16:]), AES.block_size)\n",
        "    return plaintext\n",
        "\n",
        "# Multithreaded key generation, encryption, and decryption\n",
        "def process_kyber(algo, plaintext):\n",
        "    results = {}\n",
        "    keygen_time = 0\n",
        "    enc_time = 0\n",
        "    dec_time = 0\n",
        "    ciphertext_entropy = 0\n",
        "    encrypted_entropy = 0\n",
        "    ciphertext_chi_square = 0\n",
        "    encrypted_chi_square = 0\n",
        "\n",
        "    with oqs.KeyEncapsulation(algo) as kem:\n",
        "        for sentence in plaintext:\n",
        "            pt = sentence.encode('utf-8')\n",
        "            # Key generation\n",
        "            start_time = time.time()\n",
        "            public_key = kem.generate_keypair()\n",
        "            # private_key = kem.export_secret_key()\n",
        "            keygen_time += time.time() - start_time\n",
        "\n",
        "            # Encryption\n",
        "            start_time = time.time()\n",
        "            ciphertext, shared_secret = kem.encap_secret(public_key)\n",
        "            enc_time += time.time() - start_time\n",
        "            ciphertext_entropy += shannon_entropy(ciphertext)\n",
        "            ciphertext_chi_square += chi_square_test(ciphertext)\n",
        "\n",
        "            # Decryption\n",
        "            start_time = time.time()\n",
        "            shared_secret_dec = kem.decap_secret(ciphertext)\n",
        "            dec_time += time.time() - start_time\n",
        "\n",
        "            # Hybrid encryption and decryption\n",
        "            encrypted_message = hybrid_encrypt(shared_secret, pt)\n",
        "            decrypted_message = hybrid_decrypt(shared_secret_dec, encrypted_message)\n",
        "            encrypted_entropy += shannon_entropy(encrypted_message)\n",
        "            encrypted_chi_square += chi_square_test(ciphertext)\n",
        "\n",
        "\n",
        "        n = len(plaintext)\n",
        "        results = {\n",
        "            \"keygen_time\": keygen_time / n,\n",
        "            \"enc_time\": enc_time / n,\n",
        "            \"dec_time\": dec_time / n,\n",
        "            \"encrypted_message\": encrypted_message,\n",
        "            \"decrypted_message\": decrypted_message,\n",
        "            \"ciphertext_entropy\": ciphertext_entropy / n,\n",
        "            \"entropy\": encrypted_entropy / n,\n",
        "            \"ciphertext_chi_square\": ciphertext_chi_square / n,\n",
        "            \"encrypted_chi_square\": encrypted_chi_square / n,\n",
        "            # \"hamming_distance\": hamming_distance(ciphertext, encrypted_message) / n\"\n",
        "        }\n",
        "\n",
        "    return results\n",
        "\n",
        "# Example plaintext to encrypt\n",
        "plaintext = sentence_list_large\n",
        "\n",
        "# Define the algorithms\n",
        "algorithms = [\"Kyber512\", \"Kyber768\", \"Kyber1024\"]\n",
        "\n",
        "# Multithreaded execution\n",
        "threads = []\n",
        "results = []\n",
        "\n",
        "def thread_function(algo, plaintext):\n",
        "    result = process_kyber(algo, plaintext)\n",
        "    result[\"algorithm\"] = algo\n",
        "    results.append(result)\n",
        "\n",
        "for algo in algorithms:\n",
        "    thread = threading.Thread(target=thread_function, args=(algo, plaintext))\n",
        "    threads.append(thread)\n",
        "    thread.start()\n",
        "\n",
        "for thread in threads:\n",
        "    thread.join()\n",
        "\n",
        "# Display the results\n",
        "for result in results:\n",
        "    print(f\"Algorithm: {result['algorithm']}\")\n",
        "    print(f\"Key Generation Time: {result['keygen_time']:.6f} seconds\")\n",
        "    print(f\"Encryption Time: {result['enc_time']:.6f} seconds\")\n",
        "    print(f\"Decryption Time: {result['dec_time']:.6f} seconds\")\n",
        "    print(f\"Encrypted Message: {result['encrypted_message']}\")\n",
        "    print(f\"Decrypted Message: {result['decrypted_message']}\")\n",
        "    print(f\"Shanon Entropy on CipherText: {result['ciphertext_entropy']}\")\n",
        "    print(f\"Shanon Entropy on Encrypted Message: {result['entropy']}\")\n",
        "    print(f\"Chi Square on ciphertext: {result['ciphertext_chi_square']}\")\n",
        "    print(f\"Chi Suare on encrypted message: {result['encrypted_chi_square']}\")\n",
        "\n",
        "    print(\"-\" * 30)"
      ],
      "metadata": {
        "colab": {
          "base_uri": "https://localhost:8080/"
        },
        "id": "8p1ki2-kyHRK",
        "outputId": "9a2aee6e-6b91-40b2-d997-d7c427d3b8f4"
      },
      "execution_count": null,
      "outputs": [
        {
          "output_type": "stream",
          "name": "stdout",
          "text": [
            "Algorithm: Kyber768\n",
            "Key Generation Time: 0.000425 seconds\n",
            "Encryption Time: 0.000305 seconds\n",
            "Decryption Time: 0.000465 seconds\n",
            "Encrypted Message: b'M\\x81\\xb3%,a\\x9b\\xb5\\x0f\\xfc\\xe1\\x89\"\\x8dd^\\x93\\x9a8\\xedW\\xb3\\xa2\\x1e\\x8b\\x83[\\x02P\\xc1\\x07\\x82\\xa4A+\\x8f\\xb1\\xe8\\xffA\\xd5\\x8d\\xf1\\xd1\\xaaw\\x90-w\\x94a\\xb64\\x82 \\x0f\\x0b\\x1f\\xb2\\xf2\\xdf\\xc5\\xcd\\xa2\\x86\\xee\\xfaQ\\xf3\\x97\\xad\\x92y\\x04\\'\\xa7\\x98\\xe1\\x13\\xf7\\x9f(\\xe0\\xf9^\\x08\\x9d\\xfb\\xdb\\xabS\\xd8cX\\xed0\\xc8\\x86\\xdd\\xe8jsG\\x9f\\xc2\\x01JqA\\xae\\xe7\\x9f'\n",
            "Decrypted Message: b'You just stood there with your red plastic tray like there was this awful spotlight on you'\n",
            "Shanon Entropy on CipherText: 7.820433679449091\n",
            "Shanon Entropy on Encrypted Message: 6.260372851677395\n",
            "Chi Square on ciphertext: 255.6650980392155\n",
            "Chi Suare on encrypted message: 255.6650980392155\n",
            "------------------------------\n",
            "Algorithm: Kyber1024\n",
            "Key Generation Time: 0.000436 seconds\n",
            "Encryption Time: 0.000302 seconds\n",
            "Decryption Time: 0.000419 seconds\n",
            "Encrypted Message: b'\\xe9j\\xc0W\\x1a\\xfe\\xcf\\xea\\x9b\\xda\\xc7\\x9c\\xe6~x\\xc8\\xdd\\xc7\\xd9\\x07\\xd0\\xbd\\x14u\\x86R\\xa9V\\x94\\x1cz3\\x9c\\x16\\xdb\\xa5\\xad\\xad\\x92\\xf5\\xd3\\xc5|\\r\\xec\\xac9vy\\xb2\\xcd.3\\xa3N-j\\xac\\x91\\xc2\\xd8\\xa8G]`0\\x1e\\xa34G\\xa44\\x1c \\nfbTU\\xb9@/A\\xdd\\xbcl\\xe5\\x9d\\xc26\\x1e\\x17\\xb02\\x99\\xd3\\xe0\\x87W\\x9b\\xf9\\xddxO|\\xdeWX\\xb6xn)'\n",
            "Decrypted Message: b'You just stood there with your red plastic tray like there was this awful spotlight on you'\n",
            "Shanon Entropy on CipherText: 7.878235219917342\n",
            "Shanon Entropy on Encrypted Message: 6.267182408772126\n",
            "Chi Square on ciphertext: 255.65605442176917\n",
            "Chi Suare on encrypted message: 255.65605442176917\n",
            "------------------------------\n",
            "Algorithm: Kyber512\n",
            "Key Generation Time: 0.000538 seconds\n",
            "Encryption Time: 0.000273 seconds\n",
            "Decryption Time: 0.000496 seconds\n",
            "Encrypted Message: b'\\x9e\\xd7\\x10L{]zh{\\xe4\\xcb;\\x17\\xcd:\\x0c\\x9e.\\xc19N-N\\x90\\x94\\xf3\\xc4Y\\xb0`\\xab+\\x02\\x06\\x97\\x19awP\\xe8?\\xcf\\xc8\\x1d34\\xaf\\x81\\xa5\\xd2\\xb5\\x1e\\xbb#\\x17\\xcd4\\xe4\\xfd\\xc3*\\xb9\\x96\\x9d\\xe6l\\xff\\xaes\\xebUtG\\x9f=U\\x00\\x00\\xe4\\xb4+\\xf6m_\\x95f\\xa9C\\xfd\\xf8O58\\xb9\\xb8\\xf9[\\x99[6\\xf5XQ\\xe7l\\xc5\\xfd<=\\x904\\xc9'\n",
            "Decrypted Message: b'You just stood there with your red plastic tray like there was this awful spotlight on you'\n",
            "Shanon Entropy on CipherText: 7.739068866448706\n",
            "Shanon Entropy on Encrypted Message: 6.262270044560852\n",
            "Chi Square on ciphertext: 253.61444444444467\n",
            "Chi Suare on encrypted message: 253.61444444444467\n",
            "------------------------------\n"
          ]
        }
      ]
    }
  ]
}